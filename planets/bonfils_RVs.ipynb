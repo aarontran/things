{
 "cells": [
  {
   "cell_type": "code",
   "execution_count": 1,
   "metadata": {
    "collapsed": true
   },
   "outputs": [],
   "source": [
    "import numpy as np\n",
    "import matplotlib.pyplot as plt\n",
    "import matplotlib as mpl\n",
    "import matplotlib.colors as clrs\n",
    "import matplotlib.cm as cmx\n",
    "import matplotlib.colorbar as cb\n",
    "import copy\n",
    "import time\n",
    "from astropy import units as u\n",
    "from astropy.constants import G\n",
    "from astropy.io import ascii\n",
    "from matplotlib import gridspec\n",
    "\n",
    "% matplotlib inline"
   ]
  },
  {
   "cell_type": "markdown",
   "metadata": {
    "collapsed": false
   },
   "source": [
    "<img src=\"files/bonfils_table.png\" style=\"width: 700px;\">"
   ]
  },
  {
   "cell_type": "code",
   "execution_count": 10,
   "metadata": {
    "collapsed": false
   },
   "outputs": [
    {
     "name": "stdout",
     "output_type": "stream",
     "text": [
      "0.0126582278481\n"
     ]
    }
   ],
   "source": [
    "print 4/(92.18+88.54+81.51+53.77)"
   ]
  },
  {
   "cell_type": "markdown",
   "metadata": {},
   "source": [
    "## Goal: Get occurrence rates of RV-detectable planets around M-dwarfs from Bonfils et al. 2013: https://arxiv.org/abs/1111.5019\n",
    "\n",
    "### These are planets in various P, M bins orbiting M-dwarfs within 11pc of the Sun (with declination $\\delta < 20^{\\circ}$, so the volume in question is $1.12*10^4 pc^3$).\n",
    "\n",
    "| Mass range [(M*sini)/M_earth] | Summing over all period ranges | Occurrence rate  |\n",
    "|-------------------------------|-----------------------------|---------------------|\n",
    "| 1-10                          | 8/(13.97+5.79+1.53+0.003)   | 0.376               |\n",
    "| 10-100                        | 2/(69.76+51.96+30.75+9.47)  | 0.012               |\n",
    "| 100-1000                      | 4/(92.18+88.54+81.51+53.77) | 0.013               |\n",
    "| 1000-10,000                   | 0/(96.83+95.83+94.29+87.99) | 0.01 (upper limit)  |\n",
    "\n",
    "### These fractions take the form:\n",
    "$f = \\frac{N_{detections}}{N_{stars\\ around\\ which\\ we\\ could\\ detect\\ such\\ planets}}$\n",
    "\n",
    "so to convert to our desired units, we need to divide by the mass range in each bin, then multiply by the number density of M-dwarfs in the solar neighborhood, which $=\\frac{102}{1.12*10^4 pc^3}$ according to this HARPS survey."
   ]
  },
  {
   "cell_type": "markdown",
   "metadata": {
    "scrolled": true
   },
   "source": [
    "## individual bins"
   ]
  },
  {
   "cell_type": "code",
   "execution_count": 13,
   "metadata": {
    "collapsed": false
   },
   "outputs": [
    {
     "data": {
      "image/png": "[encoded data removed]",
      "text/plain": [
       "<matplotlib.figure.Figure at 0x109883f90>"
      ]
     },
     "metadata": {},
     "output_type": "display_data"
    }
   ],
   "source": [
    "mbins_lower = np.array((3.e-6, 3.e-5, 3.e-4, 3.e-3))\n",
    "mbins_upper = np.array((3.e-5, 3.e-4, 3.e-3, 3.e-2))\n",
    "\n",
    "mbins_intervals = mbins_upper - mbins_lower\n",
    "\n",
    "fbins_indiv = (102./(1.12e4)) * np.array((0.376,0.012,0.013,0.01)) / mbins_intervals\n",
    "\n",
    "fbins_indiv_univ = 5.e-10 * np.array((0.376,0.012,0.013,0.01)) / mbins_intervals #gonna need to estimate the number of M dwarfs in the universe\n",
    "\n",
    "\n",
    "#take the average mass in each mass bin\n",
    "mbins_indiv = mbins_intervals / 2.\n",
    "\n",
    "#If a sequence of shape 2xN, errorbars are drawn at -row1 and +row2 relative to the data.\n",
    "fig = plt.figure(figsize=(8,6))\n",
    "plt.plot(mbins_indiv, fbins_indiv)\n",
    "plt.xscale('log')\n",
    "plt.yscale('log')\n",
    "plt.show()"
   ]
  },
  {
   "cell_type": "code",
   "execution_count": 18,
   "metadata": {
    "collapsed": true
   },
   "outputs": [],
   "source": [
    "RVbinsData =np.vstack((mbins_indiv,fbins_indiv)).T\n",
    "np.savetxt('../data/planetsRVbins_Mdwarfs.txt',RVbinsData,fmt='%1.3e \\t',header='M (M_s) \\t dN/dMdV (M_s^-1 pc^-3)')"
   ]
  },
  {
   "cell_type": "code",
   "execution_count": 19,
   "metadata": {
    "collapsed": false
   },
   "outputs": [],
   "source": [
    "RVbinsData_univ =np.vstack((mbins_indiv,fbins_indiv_univ)).T\n",
    "np.savetxt('../data/planetsRVbins_Mdwarfs_univ.txt',RVbinsData_univ,fmt='%1.3e \\t',header='M (M_s) \\t dN/dMdV (M_s^-1 pc^-3)')"
   ]
  },
  {
   "cell_type": "code",
   "execution_count": null,
   "metadata": {
    "collapsed": true
   },
   "outputs": [],
   "source": []
  },
  {
   "cell_type": "code",
   "execution_count": null,
   "metadata": {
    "collapsed": true
   },
   "outputs": [],
   "source": []
  }
 ],
 "metadata": {
  "kernelspec": {
   "display_name": "Python 2",
   "language": "python",
   "name": "python2"
  },
  "language_info": {
   "codemirror_mode": {
    "name": "ipython",
    "version": 2
   },
   "file_extension": ".py",
   "mimetype": "text/x-python",
   "name": "python",
   "nbconvert_exporter": "python",
   "pygments_lexer": "ipython2",
   "version": "2.7.12"
  }
 },
 "nbformat": 4,
 "nbformat_minor": 2
}
