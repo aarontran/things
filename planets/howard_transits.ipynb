{
 "cells": [
  {
   "cell_type": "code",
   "execution_count": 1,
   "metadata": {
    "collapsed": true
   },
   "outputs": [],
   "source": [
    "import numpy as np\n",
    "import matplotlib.pyplot as plt\n",
    "import matplotlib as mpl\n",
    "import matplotlib.colors as clrs\n",
    "import matplotlib.cm as cmx\n",
    "import matplotlib.colorbar as cb\n",
    "import copy\n",
    "import time\n",
    "from astropy import units as u\n",
    "from astropy.constants import G\n",
    "from astropy.io import ascii\n",
    "from matplotlib import gridspec\n",
    "\n",
    "% matplotlib inline"
   ]
  },
  {
   "cell_type": "markdown",
   "metadata": {},
   "source": [
    "<img src=\"files/howard_transits.png\" style=\"width: 350px;\">"
   ]
  },
  {
   "cell_type": "code",
   "execution_count": 2,
   "metadata": {
    "collapsed": false
   },
   "outputs": [
    {
     "data": {
      "text/plain": [
       "0.28500000000000003"
      ]
     },
     "execution_count": 2,
     "metadata": {},
     "output_type": "execute_result"
    }
   ],
   "source": [
    "95000 *3.e-6"
   ]
  },
  {
   "cell_type": "markdown",
   "metadata": {},
   "source": [
    "## Goal: Get planet occurrence rate data from Howard et al. 2012: https://arxiv.org/abs/1103.2541\n",
    "\n",
    "### These are planets with P < 50d orbiting G and K stars in the Kepler survey, so these are occurrence rates for short-period planets around \"Sun-like\" stars.\n",
    "\n",
    "| Radius range [R_Earth] | Mass range [M_Earth] | Mass range [M_Sun] | Occurrence rate |\n",
    "|------------------------|----------------------|--------------------|-----------------|\n",
    "| 2-4                    | 3-25                 | 9.e-6 - 7.5e-5     | 0.130 +- 0.008  |\n",
    "| 4-8                    | 9-7800               | 2.7e-5 - 2.3e-2    | 0.023 +- 0.003  |\n",
    "| 8-32                   | 34-95,000            | 1.e-4 - 2.9e-1     | 0.013 +- 0.002  |\n",
    "\n",
    "\n",
    "### In the above table, I have used Chen & Kipping's Forecaster model (https://arxiv.org/abs/1603.08614) to make a rough conversion of Earth radii to Earth masses.\n",
    "\n",
    "2 Rearth: M = 4.890 (+ 4.508 - 1.948) MEarth\n",
    "\n",
    "4 Rearth: M = 15.949 (+ 9.483 - 7.300) MEarth\n",
    "\n",
    "8 Rearth: M = 57.706 (+ 7733.247 - 23.705) MEarth\n",
    "\n",
    "32 Rearth: M = 86401.149 (+ 9441.665 - 10110.472) MEarth\n",
    "\n",
    "### The occurrence rate $f$ is in units of number of planets/star, so we need to multiply by the number density of GK dwarfs in the Kepler field.\n",
    "\n",
    "For now, take this number density to be the number density in the solar neighborhood: from Howard et al. 2010, this is $\\frac{166}{6.5*10^4} = 2.54*10^{-3}$.\n",
    "\n",
    "### And meanwhile, they fit a power law to these data:\n",
    "\n",
    "$\\frac{df}{dlogR_p} = k R_p^\\alpha$ \n",
    "where\n",
    "\n",
    "$R_p$ is the radius of the planet in Earth radii, and they find\n",
    "\n",
    "$k = 2.9^{+0.5}_{-0.4}$\n",
    "\n",
    "$\\alpha = -1.92 \\pm 0.11$\n",
    "\n",
    "I would like to convert this to a power law with respect to mass using Jingjing's model, but since Jingjing's model is a broken power law, this might not be super straightforward."
   ]
  },
  {
   "cell_type": "markdown",
   "metadata": {
    "scrolled": true
   },
   "source": [
    "## individual bins"
   ]
  },
  {
   "cell_type": "code",
   "execution_count": 8,
   "metadata": {
    "collapsed": false
   },
   "outputs": [
    {
     "data": {
      "image/png": "[encoded data removed]",
      "text/plain": [
       "<matplotlib.figure.Figure at 0x1093c7dd0>"
      ]
     },
     "metadata": {},
     "output_type": "display_data"
    }
   ],
   "source": [
    "#If a sequence of shape 2xN, errorbars are drawn at -row1 and +row2 relative to the data.\n",
    "mbins_lower = np.array((9.e-6, 2.7e-5, 1.e-4))\n",
    "mbins_upper = np.array((7.5e-5, 2.3e-2,2.9e-1))\n",
    "\n",
    "mbins_intervals = mbins_upper - mbins_lower\n",
    "\n",
    "fbins_indiv = (2.54e-3 * np.array((0.130,0.023,0.013))) / mbins_intervals\n",
    "fbins_upperunc_indiv = (2.54e-3 * np.array((0.008,0.003,0.002))) / mbins_intervals\n",
    "fbins_lowerunc_indiv = (2.54e-3 * np.array((0.008,0.003,0.002))) / mbins_intervals\n",
    "\n",
    "fbins_indiv_univ = 5.e-10 * np.array((0.130,0.023,0.013)) / mbins_intervals\n",
    "fbins_upperunc_indiv_univ = 5.e-10 * np.array((0.008,0.003,0.002)) / mbins_intervals\n",
    "fbins_lowerunc_indiv_univ = 5.e-10 * np.array((0.008,0.003,0.002)) / mbins_intervals\n",
    "\n",
    "#take the average mass in each mass bin\n",
    "mbins_indiv = mbins_intervals / 2.\n",
    "\n",
    "#If a sequence of shape 2xN, errorbars are drawn at -row1 and +row2 relative to the data.\n",
    "fig = plt.figure(figsize=(8,6))\n",
    "plt.errorbar(mbins_upper, fbins_indiv_univ, yerr=np.vstack((fbins_lowerunc_indiv_univ,fbins_upperunc_indiv_univ)))\n",
    "plt.xscale('log')\n",
    "plt.yscale('log')\n",
    "plt.show()"
   ]
  },
  {
   "cell_type": "code",
   "execution_count": 9,
   "metadata": {
    "collapsed": true
   },
   "outputs": [],
   "source": [
    "transitBinsData =np.vstack((mbins_indiv,fbins_indiv,fbins_upperunc_indiv,fbins_lowerunc_indiv)).T\n",
    "np.savetxt('../data/planetsTransitBins_GK.txt',transitBinsData,fmt='%1.3e \\t',header='M (M_s) \\t dN/dMdV (M_s^-1 pc^-3) \\t dN/dMdV_upperunc (M_s^-1 pc^-3) \\t dN/dMdV_lowerunc (M_s^-1 pc^-3)')"
   ]
  },
  {
   "cell_type": "code",
   "execution_count": 10,
   "metadata": {
    "collapsed": false
   },
   "outputs": [],
   "source": [
    "transitBinsData_univ =np.vstack((mbins_indiv,fbins_indiv_univ,fbins_upperunc_indiv_univ,fbins_lowerunc_indiv_univ)).T\n",
    "np.savetxt('../data/planetsTransitBins_GK_univ.txt',transitBinsData_univ,fmt='%1.3e \\t',header='M (M_s) \\t dN/dMdV (M_s^-1 pc^-3) \\t dN/dMdV_upperunc (M_s^-1 pc^-3) \\t dN/dMdV_lowerunc (M_s^-1 pc^-3)')"
   ]
  },
  {
   "cell_type": "code",
   "execution_count": null,
   "metadata": {
    "collapsed": true
   },
   "outputs": [],
   "source": []
  }
 ],
 "metadata": {
  "kernelspec": {
   "display_name": "Python 2",
   "language": "python",
   "name": "python2"
  },
  "language_info": {
   "codemirror_mode": {
    "name": "ipython",
    "version": 2
   },
   "file_extension": ".py",
   "mimetype": "text/x-python",
   "name": "python",
   "nbconvert_exporter": "python",
   "pygments_lexer": "ipython2",
   "version": "2.7.12"
  }
 },
 "nbformat": 4,
 "nbformat_minor": 2
}
