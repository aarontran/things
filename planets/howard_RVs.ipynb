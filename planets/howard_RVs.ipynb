{
 "cells": [
  {
   "cell_type": "code",
   "execution_count": 1,
   "metadata": {
    "collapsed": true
   },
   "outputs": [],
   "source": [
    "import numpy as np\n",
    "import matplotlib.pyplot as plt\n",
    "import matplotlib as mpl\n",
    "import matplotlib.colors as clrs\n",
    "import matplotlib.cm as cmx\n",
    "import matplotlib.colorbar as cb\n",
    "import copy\n",
    "import time\n",
    "from astropy import units as u\n",
    "from astropy.constants import G\n",
    "from astropy.io import ascii\n",
    "from matplotlib import gridspec\n",
    "\n",
    "% matplotlib inline"
   ]
  },
  {
   "cell_type": "markdown",
   "metadata": {},
   "source": [
    "<img src=\"files/howard.png\" style=\"width: 500px;\">"
   ]
  },
  {
   "cell_type": "markdown",
   "metadata": {},
   "source": [
    "## Goal: Get planet occurrence rate data from Howard et al. 2010: https://arxiv.org/abs/1011.0143\n",
    "\n",
    "### These are planets with P < 50d orbiting G and K stars within 25pc of the Sun, so these are occurrence rates for short-period planets around \"Sun-like\" stars.\n",
    "\n",
    "| Mass range [(M*sini)/M_earth] | Mass range [(M*sini)/M_sun] | Occurrence rate [%] |\n",
    "|-------------------------------|-----------------------------|---------------------|\n",
    "| 3-10                          | (0.9-3)e-5                  | 11.8+4.3-3.5        |\n",
    "| 10-30                         | (3-9)e-5                    | 6.5+3.0-2.3         |\n",
    "| 30-100                        | (0.9-3)e-4                  | 1.6+1.2-0.8         |\n",
    "| 100-300                       | (3-9)e-4                    | 1.6+1.2-0.8         |\n",
    "| 300-1000                      | (0.9-3)e-3                  | 1.6+1.2-0.8         |\n",
    "\n",
    "### And meanwhile, they fit a power law to these 5 bins:\n",
    "$\\frac{df}{dlogM_E} = k M_E^\\alpha$\n",
    "\n",
    "where\n",
    "\n",
    "$M_E = \\frac{M\\sin{i}}{M_{earth}} = 3.33*10^5 \\frac{M\\sin{i}}{M_\\odot} = 3.33*10^5 \\frac{M}{M_\\odot}$ if you integrate out $\\sin{i}$ without accounting for observational bias, which is not right\n",
    "\n",
    "i.e. $M_S = \\frac{M\\sin{i}}{M_\\odot} = \\frac{M_E}{3.33*10^5}$\n",
    "\n",
    "$k = 0.39^{+0.27}_{-0.16}$\n",
    "\n",
    "$\\alpha = -0.48^{+0.12}_{-0.14}$\n",
    "\n",
    "Expressing this power law in $M_S$:\n",
    "\n",
    "$\\frac{df}{dlogM_S} = k (M_S*3.33*10^5)^\\alpha$\n",
    "\n",
    "or:\n",
    "\n",
    "$\\frac{df}{dM_S} =\\frac{k (M_S*3.33*10^5)^\\alpha}{M_S}$\n",
    "\n",
    "\n",
    "Meanwhile,\n",
    "\n",
    "$f = \\frac{N_{planets}}{N_{Sun-like\\ stars}}$\n",
    "\n",
    "so\n",
    "\n",
    "$\\frac{dN_{planets}}{dV} = df \\frac{N_{Sun-like\\ stars}}{dV}$\n",
    "\n",
    "and\n",
    "\n",
    "$\\frac{dN_{planets}}{dVdM_S} = \\frac{k (M_S*3.33*10^5)^\\alpha}{M_S} \\frac{N_{Sun-like\\ stars}}{dV} = \\frac{k (M_S*3.33*10^5)^\\alpha}{M_S} \\frac{166}{6.5*10^4 pc^3}$\n",
    "\n",
    "so, in the solar neighborhood:\n",
    "\n",
    "$\\frac{dN_{planets}}{dVdM_S} = \\frac{k (M_S*3.33*10^5)^\\alpha}{M_S} \\frac{N_{Sun-like\\ stars}}{dV} = 2.54 * 10^{-3} * k * (3.33*10^5)^\\alpha * M_S^{\\alpha-1}$\n",
    "\n",
    "or, using the stellar density of the universe: (from Illustris, we can/should improve this)\n",
    "\n",
    "$\\frac{dN_{planets}}{dVdM_S} = 5.0 * 10^{-10} * k * (3.33*10^5)^\\alpha * M_S^{\\alpha-1}$"
   ]
  },
  {
   "cell_type": "markdown",
   "metadata": {},
   "source": [
    "## power law"
   ]
  },
  {
   "cell_type": "code",
   "execution_count": 2,
   "metadata": {
    "collapsed": false
   },
   "outputs": [
    {
     "data": {
      "image/png": "[encoded data removed]",
      "text/plain": [
       "<matplotlib.figure.Figure at 0x109611f10>"
      ]
     },
     "metadata": {},
     "output_type": "display_data"
    }
   ],
   "source": [
    "mbins = np.array((9.e-6, 3.e-5, 9.e-5, 3.e-4, 9.e-4, 3.e-3))\n",
    "k = 0.39\n",
    "alpha = -0.48\n",
    "\n",
    "dnbins = 2.54e-3 * k * (3.33e5)**alpha * mbins**(alpha-1) \n",
    "dnbins_univ = 5.e-10 * k * (3.33e5)**alpha * mbins**(alpha-1)\n",
    "\n",
    "\n",
    "fig = plt.figure(figsize=(8,6))\n",
    "plt.plot(mbins, dnbins, 'k.')\n",
    "plt.xscale('log')\n",
    "plt.yscale('log')\n",
    "plt.show()"
   ]
  },
  {
   "cell_type": "code",
   "execution_count": 3,
   "metadata": {
    "collapsed": false
   },
   "outputs": [],
   "source": [
    "RVpowerLawData =np.vstack((mbins,dnbins)).T\n",
    "np.savetxt('../data/planetsRVpowerLaw.txt',RVpowerLawData,fmt='%1.3e \\t',header='M (M_s) \\t dN/dMdV (M_s^-1 pc^-3)')"
   ]
  },
  {
   "cell_type": "code",
   "execution_count": 4,
   "metadata": {
    "collapsed": true
   },
   "outputs": [],
   "source": [
    "RVpowerLawData_univ =np.vstack((mbins,dnbins_univ)).T\n",
    "np.savetxt('../data/planetsRVpowerLaw_univ.txt',RVpowerLawData_univ,fmt='%1.3e \\t',header='M (M_s) \\t dN/dMdV (M_s^-1 pc^-3)')"
   ]
  },
  {
   "cell_type": "markdown",
   "metadata": {
    "scrolled": true
   },
   "source": [
    "## individual bins"
   ]
  },
  {
   "cell_type": "code",
   "execution_count": 5,
   "metadata": {
    "collapsed": false
   },
   "outputs": [
    {
     "data": {
      "image/png": "[encoded data removed]",
      "text/plain": [
       "<matplotlib.figure.Figure at 0x109997c10>"
      ]
     },
     "metadata": {},
     "output_type": "display_data"
    }
   ],
   "source": [
    "#If a sequence of shape 2xN, errorbars are drawn at -row1 and +row2 relative to the data.\n",
    "\n",
    "mbins_lower = np.array((9.e-6, 3.e-5, 9.e-5, 3.e-4, 9.e-4))\n",
    "mbins_upper = np.array((3.e-5, 9.e-5, 3.e-4, 9.e-4, 3.e-3))\n",
    "\n",
    "mbins_intervals = mbins_upper - mbins_lower\n",
    "\n",
    "fbins_indiv = (2.54e-3 * 0.01 * np.array((11.8,6.5,1.6,1.6,1.6))) / mbins_intervals\n",
    "fbins_upperunc_indiv = (2.54e-3 * 0.01*np.array((4.3,3.0,1.2,1.2,1.2))) / mbins_intervals\n",
    "fbins_lowerunc_indiv = (2.54e-3 * 0.01*np.array((3.5,2.3,0.8,0.8,0.8))) / mbins_intervals\n",
    "\n",
    "fbins_indiv_univ = 5.e-10 * 0.01 * np.array((11.8,6.5,1.6,1.6,1.6)) / mbins_intervals\n",
    "fbins_upperunc_indiv_univ = 5.e-10 * 0.01*np.array((4.3,3.0,1.2,1.2,1.2)) / mbins_intervals\n",
    "fbins_lowerunc_indiv_univ = 5.e-10 * 0.01*np.array((3.5,2.3,0.8,0.8,0.8)) / mbins_intervals\n",
    "\n",
    "#take the average mass in each mass bin\n",
    "mbins_indiv = mbins_intervals / 2.\n",
    "\n",
    "#If a sequence of shape 2xN, errorbars are drawn at -row1 and +row2 relative to the data.\n",
    "fig = plt.figure(figsize=(8,6))\n",
    "plt.errorbar(mbins_upper, fbins_indiv_univ, yerr=np.vstack((fbins_lowerunc_indiv_univ,fbins_upperunc_indiv_univ)))\n",
    "plt.xscale('log')\n",
    "plt.yscale('log')\n",
    "plt.show()"
   ]
  },
  {
   "cell_type": "code",
   "execution_count": 6,
   "metadata": {
    "collapsed": true
   },
   "outputs": [],
   "source": [
    "RVbinsData =np.vstack((mbins_upper,fbins_indiv,fbins_upperunc_indiv,fbins_lowerunc_indiv)).T\n",
    "np.savetxt('../data/planetsRVbins.txt',RVbinsData,fmt='%1.3e \\t',header='M (M_s) \\t dN/dMdV (M_s^-1 pc^-3) \\t dN/dMdV_upperunc (M_s^-1 pc^-3) \\t dN/dMdV_lowerunc (M_s^-1 pc^-3)')"
   ]
  },
  {
   "cell_type": "code",
   "execution_count": 7,
   "metadata": {
    "collapsed": false
   },
   "outputs": [],
   "source": [
    "RVbinsData_univ =np.vstack((mbins_upper,fbins_indiv_univ,fbins_upperunc_indiv_univ,fbins_lowerunc_indiv_univ)).T\n",
    "np.savetxt('../data/planetsRVbins_univ.txt',RVbinsData_univ,fmt='%1.3e \\t',header='M (M_s) \\t dN/dMdV (M_s^-1 pc^-3) \\t dN/dMdV_upperunc (M_s^-1 pc^-3) \\t dN/dMdV_lowerunc (M_s^-1 pc^-3)')"
   ]
  },
  {
   "cell_type": "code",
   "execution_count": null,
   "metadata": {
    "collapsed": true
   },
   "outputs": [],
   "source": []
  }
 ],
 "metadata": {
  "kernelspec": {
   "display_name": "Python 2",
   "language": "python",
   "name": "python2"
  },
  "language_info": {
   "codemirror_mode": {
    "name": "ipython",
    "version": 2
   },
   "file_extension": ".py",
   "mimetype": "text/x-python",
   "name": "python",
   "nbconvert_exporter": "python",
   "pygments_lexer": "ipython2",
   "version": "2.7.12"
  }
 },
 "nbformat": 4,
 "nbformat_minor": 2
}
