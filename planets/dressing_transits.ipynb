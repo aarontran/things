{
 "cells": [
  {
   "cell_type": "code",
   "execution_count": 1,
   "metadata": {
    "collapsed": true
   },
   "outputs": [],
   "source": [
    "import numpy as np\n",
    "import matplotlib.pyplot as plt\n",
    "import matplotlib as mpl\n",
    "import matplotlib.colors as clrs\n",
    "import matplotlib.cm as cmx\n",
    "import matplotlib.colorbar as cb\n",
    "import copy\n",
    "import time\n",
    "from astropy import units as u\n",
    "from astropy.constants import G\n",
    "from astropy.io import ascii\n",
    "from matplotlib import gridspec\n",
    "\n",
    "% matplotlib inline"
   ]
  },
  {
   "cell_type": "markdown",
   "metadata": {},
   "source": [
    "<img src=\"files/dressing.png\" style=\"width: 700px;\">"
   ]
  },
  {
   "cell_type": "code",
   "execution_count": 45,
   "metadata": {
    "collapsed": false
   },
   "outputs": [
    {
     "data": {
      "text/plain": [
       "0.198"
      ]
     },
     "execution_count": 45,
     "metadata": {},
     "output_type": "execute_result"
    }
   ],
   "source": [
    "6.6e4 * 3.e-6"
   ]
  },
  {
   "cell_type": "markdown",
   "metadata": {},
   "source": [
    "## Goal: Get planet occurrence rate data from Dressing & Charbonneau 2013: https://arxiv.org/abs/1302.1647\n",
    "\n",
    "### These are planets with P < 50d orbiting late K and M stars in the Kepler survey, so these are occurrence rates for short-period planets.\n",
    "\n",
    "| Radius range [R_Earth] | Mass range [M_Earth] | Mass range [M_Sun] | Occurrence rate    |\n",
    "|------------------------|----------------------|--------------------|--------------------|\n",
    "| 0.5-0.7                | 0.06 - 0.4           | 1.8e-7 - 1.2e-6    | 0.014+0.0129-0.006 |\n",
    "| 0.7-1.0                | 0.2 - 1.8            | 6.e-7 - 5.4e-6     | 0.212+0.0590-0.044 |\n",
    "| 1.0-1.4                | 0.7 - 4.4            | 2.1e-6 - 1.3e-5    | 0.285+0.0509-0.041 |\n",
    "| 1.4-2.0                | 1.9 - 8.6            | 5.7e-6 - 2.6e-5    | 0.202+0.0443-0.035 |\n",
    "| 2.0-2.8                | 3.1 - 15.5           | 9.3e-6 - 4.7e-5    | 0.186+0.0440-0.034 |\n",
    "| 2.8-4.0                | 5.1 - 24.9           | 1.5e-5 - 7.5e-5    | 0.005+0.0081-0.003 |\n",
    "| 4.0-5.7                | 9.6 - 47.4           | 2.9e-5 - 1.4e-4    | 0.004+0.0062-0.002 |\n",
    "| 8.0-11.3               | 31.3 - 1.54e4        | 9.4e-5 - 4.6e-2    | 0.003+0.0044-0.001 |\n",
    "| 11.3-16.0              | 190 -  3.1e4         | 5.7e-4 - 9.3e-2    | 0.004+0.0055-0.002 |\n",
    "| 16.0-22.6              | 145 -  6.6e4         | 4.3e-4 - 2.0e-1    | 0.003+0.0041-0.001 |\n",
    "\n",
    "\n",
    "### In the above table, I have used Chen & Kipping's Forecaster model (https://arxiv.org/abs/1603.08614) to make a rough conversion of Earth radii to Earth masses.\n",
    "\n",
    "0.5 Rearth: M = 0.085 (+ 0.029 - 0.023) MEarth\n",
    "\n",
    "0.7 Rearth: M = 0.274 (+ 0.081 - 0.067) MEarth\n",
    "\n",
    "1.0 Rearth: M = 1.021 (+ 0.767 - 0.333) MEarth\n",
    "\n",
    "1.4 Rearth: M = 2.822 (+ 1.540 - 0.958) MEarth\n",
    "\n",
    "2.0 Rearth: M = 4.940 (+ 3.709 - 1.810) MEarth\n",
    "\n",
    "2.8 Rearth: M = 8.127 (+ 7.332 - 2.978) MEarth\n",
    "\n",
    "4.0 Rearth: M = 16.452 (+ 8.458 - 6.858) MEarth\n",
    "\n",
    "5.7 Rearth: M = 30.658 (+ 16.725 - 13.150) MEarth\n",
    "\n",
    "8.0 Rearth: M = 59.526 (+ 5416.360 - 28.232) MEarth\n",
    "\n",
    "11.3 Rearth: M = 2246.382 (+ 13200.998 - 2056.206) MEarth\n",
    "\n",
    "16.0 Rearth: M = 608.760 (+ 30019.274 - 463.531) MEarth\n",
    "\n",
    "22.6 Rearth: M = 57661.604 (+ 8318.868 - 56944.355) MEarth\n",
    "\n",
    "### The occurrence rate $f$ is in units of number of planets/star, so we need to multiply by the number density of M dwarfs in the Kepler field.\n",
    "\n",
    "For now, take this number density to be the number density in the solar neighborhood: from Bonfils et al. 2013, this is $\\frac{102}{1.12*10^4} = 9.1*10^{-3}$."
   ]
  },
  {
   "cell_type": "markdown",
   "metadata": {
    "scrolled": true
   },
   "source": [
    "## individual bins"
   ]
  },
  {
   "cell_type": "code",
   "execution_count": 46,
   "metadata": {
    "collapsed": false
   },
   "outputs": [
    {
     "data": {
      "image/png": "[encoded data removed]",
      "text/plain": [
       "<matplotlib.figure.Figure at 0x1093e5b10>"
      ]
     },
     "metadata": {},
     "output_type": "display_data"
    }
   ],
   "source": [
    "#If a sequence of shape 2xN, errorbars are drawn at -row1 and +row2 relative to the data.\n",
    "mbins_lower = np.array((1.8e-7,6.0e-7,2.1e-6,5.7e-6,9.3e-6,1.5e-5,2.9e-5,9.4e-5,5.7e-4,4.3e-4))\n",
    "mbins_upper = np.array((1.2e-6,5.4e-6,1.3e-5,2.6e-5,4.7e-5,7.5e-5,1.4e-4,4.6e-2,9.3e-2,2.0e-1))\n",
    "\n",
    "mbins_intervals = mbins_upper - mbins_lower\n",
    "\n",
    "fbins_indiv = (9.1e-3 * np.array((0.014,0.212,0.285,0.202,0.186,0.005,0.004,0.003,0.004,0.003))) / mbins_intervals\n",
    "fbins_upperunc_indiv = (9.1e-3 * np.array((0.0129,0.0590,0.0509,0.0443,0.0440,0.0081,0.0062,0.0044,0.0055,0.0041))) / mbins_intervals\n",
    "fbins_lowerunc_indiv = (9.1e-3 * np.array((0.006,0.044,0.041,0.035,0.034,0.003,0.002,0.001,0.002,0.001))) / mbins_intervals\n",
    "\n",
    "fbins_indiv_univ = 5.e-10 * np.array((0.014,0.212,0.285,0.202,0.186,0.005,0.004,0.003,0.004,0.003)) / mbins_intervals\n",
    "fbins_upperunc_indiv_univ = 5.e-10 * np.array((0.0129,0.0590,0.0509,0.0443,0.0440,0.0081,0.0062,0.0044,0.0055,0.0041)) / mbins_intervals\n",
    "fbins_lowerunc_indiv_univ = 5.e-10 * np.array((0.006,0.044,0.041,0.035,0.034,0.003,0.002,0.001,0.002,0.001)) / mbins_intervals\n",
    "\n",
    "#take the average mass in each mass bin\n",
    "mbins_indiv = mbins_intervals / 2.\n",
    "\n",
    "#If a sequence of shape 2xN, errorbars are drawn at -row1 and +row2 relative to the data.\n",
    "fig = plt.figure(figsize=(8,6))\n",
    "plt.errorbar(mbins_upper, fbins_indiv_univ, yerr=np.vstack((fbins_lowerunc_indiv_univ,fbins_upperunc_indiv_univ)))\n",
    "plt.xscale('log')\n",
    "plt.yscale('log')\n",
    "plt.show()"
   ]
  },
  {
   "cell_type": "code",
   "execution_count": 47,
   "metadata": {
    "collapsed": true
   },
   "outputs": [],
   "source": [
    "transitBinsData =np.vstack((mbins_indiv,fbins_indiv,fbins_upperunc_indiv,fbins_lowerunc_indiv)).T\n",
    "np.savetxt('../data/planetsTransitBins_M.txt',transitBinsData,fmt='%1.3e \\t',header='M (M_s) \\t dN/dMdV (M_s^-1 pc^-3) \\t dN/dMdV_upperunc (M_s^-1 pc^-3) \\t dN/dMdV_lowerunc (M_s^-1 pc^-3)')"
   ]
  },
  {
   "cell_type": "code",
   "execution_count": 48,
   "metadata": {
    "collapsed": false
   },
   "outputs": [],
   "source": [
    "transitBinsData_univ =np.vstack((mbins_indiv,fbins_indiv_univ,fbins_upperunc_indiv_univ,fbins_lowerunc_indiv_univ)).T\n",
    "np.savetxt('../data/planetsTransitBins_M_univ.txt',transitBinsData_univ,fmt='%1.3e \\t',header='M (M_s) \\t dN/dMdV (M_s^-1 pc^-3) \\t dN/dMdV_upperunc (M_s^-1 pc^-3) \\t dN/dMdV_lowerunc (M_s^-1 pc^-3)')"
   ]
  },
  {
   "cell_type": "code",
   "execution_count": null,
   "metadata": {
    "collapsed": true
   },
   "outputs": [],
   "source": []
  }
 ],
 "metadata": {
  "kernelspec": {
   "display_name": "Python 2",
   "language": "python",
   "name": "python2"
  },
  "language_info": {
   "codemirror_mode": {
    "name": "ipython",
    "version": 2
   },
   "file_extension": ".py",
   "mimetype": "text/x-python",
   "name": "python",
   "nbconvert_exporter": "python",
   "pygments_lexer": "ipython2",
   "version": "2.7.12"
  }
 },
 "nbformat": 4,
 "nbformat_minor": 2
}
