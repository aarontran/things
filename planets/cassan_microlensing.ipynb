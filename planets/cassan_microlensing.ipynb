{
 "cells": [
  {
   "cell_type": "code",
   "execution_count": 1,
   "metadata": {
    "collapsed": true
   },
   "outputs": [],
   "source": [
    "import numpy as np\n",
    "import matplotlib.pyplot as plt\n",
    "import matplotlib as mpl\n",
    "import matplotlib.colors as clrs\n",
    "import matplotlib.cm as cmx\n",
    "import matplotlib.colorbar as cb\n",
    "import copy\n",
    "import time\n",
    "from astropy import units as u\n",
    "from astropy.constants import G\n",
    "from astropy.io import ascii\n",
    "from matplotlib import gridspec\n",
    "\n",
    "% matplotlib inline"
   ]
  },
  {
   "cell_type": "markdown",
   "metadata": {},
   "source": [
    "<img src=\"files/cassan.png\" style=\"width: 500px;\">"
   ]
  },
  {
   "cell_type": "markdown",
   "metadata": {},
   "source": [
    "## Goal: Get planet occurrence rate data from Cassan et al. 2012: https://arxiv.org/abs/1202.0903\n",
    "\n",
    "### These are planets with $M_p$ in the range $5 M_{Earth} - 10 M_J$ orbiting in the semi-major axis range $0.5-10AU$ around all types of stars.\n",
    "\n",
    "### They fit the following power law:\n",
    "$\\frac{d(N_{planet}/N_{star})}{d\\log{a}d\\log{M}} = 10^{-0.62} \\left(\\frac{M}{M_{Saturn}}\\right)^{-0.73}$\n",
    "\n",
    "where\n",
    "\n",
    "$M_{Saturn} = 2.86 * 10^{-4} M_{\\odot}$\n",
    "\n",
    "therefore\n",
    "\n",
    "$\\frac{d(N_{planet}/N_{star})}{d\\log{a}d\\log{M}} = 10^{-0.62} \\left(\\frac{M}{2.86 * 10^{-4} M_{\\odot}}\\right)^{-0.73}$\n",
    "\n",
    "and substituting around to get $M$ instead of $\\log{M}$, we get:\n",
    "\n",
    "$\\frac{d(N_{planet}/N_{star})}{d\\log{a}dM} = 10^{-0.62} \\left(\\frac{M}{2.86 * 10^{-4} M_{\\odot}}\\right)^{-0.73} \\frac{1}{M}$\n",
    "\n",
    "We can then integrate over the allowable $a$ range to yield:\n",
    "\n",
    "\n",
    "$\\frac{d(N_{planet}/N_{star})}{dM} = 3.0 * 10^{-0.62} \\left(\\frac{M}{2.86 * 10^{-4} M_{\\odot}}\\right)^{-0.73} \\frac{1}{M}$\n",
    "\n",
    "And then, to convert to a number density of planets, we can multiply both sides by the number density of stars in the Solar neighborhood, assuming that this number density is representative of the number density of stars in the Galaxy. From Howard et al. 2010, there are 235 G, K, and M-dwarfs within 25 pc of the Sun, so:\n",
    "\n",
    "$\\frac{dN}{dMdV} = 3.67 * 10^{-3} * 3.0 * 10^{-0.62} \\left(\\frac{M}{2.86 * 10^{-4} M_{\\odot}}\\right)^{-0.73} \\frac{1}{M}$"
   ]
  },
  {
   "cell_type": "markdown",
   "metadata": {},
   "source": [
    "## power law"
   ]
  },
  {
   "cell_type": "code",
   "execution_count": 3,
   "metadata": {
    "collapsed": false
   },
   "outputs": [
    {
     "data": {
      "image/png": "[encoded data removed]",
      "text/plain": [
       "<matplotlib.figure.Figure at 0x10a3ac6d0>"
      ]
     },
     "metadata": {},
     "output_type": "display_data"
    }
   ],
   "source": [
    "mbins = np.linspace(5.*3.e-6, 10.e-3, 100) #5Mearth to 10Mjup in units of solar masses\n",
    "\n",
    "dnbins = 3.67e-3 * 3. * 10.**(-0.62) * (mbins/(2.86e-4))**(-0.73) * (1./mbins)\n",
    "dnbins_univ = 5.e-10 * 3. * 10.**(-0.62) * (mbins/(2.86e-4))**(-0.73) * (1./mbins)\n",
    "\n",
    "fig = plt.figure(figsize=(8,6))\n",
    "plt.plot(mbins, dnbins, 'k.')\n",
    "plt.xscale('log')\n",
    "plt.yscale('log')\n",
    "plt.show()"
   ]
  },
  {
   "cell_type": "code",
   "execution_count": 4,
   "metadata": {
    "collapsed": false
   },
   "outputs": [],
   "source": [
    "microlensing =np.vstack((mbins,dnbins)).T\n",
    "np.savetxt('../data/planetsMicrolensing.txt',microlensing,fmt='%1.3e \\t',header='M (M_s) \\t dN/dMdV (M_s^-1 pc^-3)')"
   ]
  },
  {
   "cell_type": "code",
   "execution_count": 5,
   "metadata": {
    "collapsed": true
   },
   "outputs": [],
   "source": [
    "microlensing_univ =np.vstack((mbins,dnbins_univ)).T\n",
    "np.savetxt('../data/planetsMicrolensing_univ.txt',microlensing_univ,fmt='%1.3e \\t',header='M (M_s) \\t dN/dMdV (M_s^-1 pc^-3)')"
   ]
  },
  {
   "cell_type": "code",
   "execution_count": null,
   "metadata": {
    "collapsed": true
   },
   "outputs": [],
   "source": []
  }
 ],
 "metadata": {
  "kernelspec": {
   "display_name": "Python 2",
   "language": "python",
   "name": "python2"
  },
  "language_info": {
   "codemirror_mode": {
    "name": "ipython",
    "version": 2
   },
   "file_extension": ".py",
   "mimetype": "text/x-python",
   "name": "python",
   "nbconvert_exporter": "python",
   "pygments_lexer": "ipython2",
   "version": "2.7.12"
  }
 },
 "nbformat": 4,
 "nbformat_minor": 2
}
