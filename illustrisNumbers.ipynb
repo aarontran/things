{
 "cells": [
  {
   "cell_type": "code",
   "execution_count": 4,
   "metadata": {
    "collapsed": true
   },
   "outputs": [],
   "source": [
    "import numpy as np\n",
    "import matplotlib.pyplot as plt\n",
    "import illustrisAPI.iApi as iApi\n",
    "#iApi.headers['api-key']='cc4ff6392e79c9e08c158e5ae5493718'"
   ]
  },
  {
   "cell_type": "code",
   "execution_count": 5,
   "metadata": {
    "collapsed": true
   },
   "outputs": [],
   "source": [
    "iApi.setUnits('Zephyr')"
   ]
  },
  {
   "cell_type": "code",
   "execution_count": 6,
   "metadata": {},
   "outputs": [],
   "source": [
    "masses=iApi.getSubhaloField('SubhaloMassType',simulation='Illustris-1')"
   ]
  },
  {
   "cell_type": "code",
   "execution_count": 9,
   "metadata": {
    "collapsed": true
   },
   "outputs": [],
   "source": [
    "snapInfo=iApi.getSimData(simulation='Illustris-1')\n",
    "boxSize=1000*snapInfo['BoxSize']/snapInfo['h']\n",
    "volume=boxSize**3"
   ]
  },
  {
   "cell_type": "code",
   "execution_count": 10,
   "metadata": {
    "collapsed": true
   },
   "outputs": [],
   "source": [
    "mDm=masses[:,1]\n",
    "mStar=masses[:,4]\n",
    "mBh=masses[:,5]"
   ]
  },
  {
   "cell_type": "code",
   "execution_count": 23,
   "metadata": {},
   "outputs": [],
   "source": [
    "nBins=48\n",
    "ms=np.zeros(nBins)\n",
    "dStar=np.zeros(nBins)\n",
    "dBh=np.zeros(nBins)\n",
    "dDm=np.zeros(nBins)\n",
    "for i in range(nBins):\n",
    "    mLow=10**(6+0.25*i)\n",
    "    mHigh=10**(6+0.25*(i+1))\n",
    "    dm=mHigh-mLow\n",
    "    ms[i]=10**(6+0.25*(i+0.5))\n",
    "    stars=np.argwhere((mStar>mLow) & (mStar<mHigh))\n",
    "    bhs=np.argwhere((mBh>mLow) & (mBh<mHigh))\n",
    "    dms=np.argwhere((mDm>mLow) & (mDm<mHigh))\n",
    "    dStar[i]=np.size(stars)/(volume*dm)\n",
    "    dBh[i]=np.size(bhs)/(volume*dm)\n",
    "    dDm[i]=np.size(dms)/(volume*dm)"
   ]
  },
  {
   "cell_type": "code",
   "execution_count": 33,
   "metadata": {},
   "outputs": [],
   "source": [
    "#smbhData=np.genfromtxt('data/SMBHs.txt')\n",
    "#smbhData[:,1]=smbhData[:,1]*1e-9"
   ]
  },
  {
   "cell_type": "code",
   "execution_count": 35,
   "metadata": {},
   "outputs": [],
   "source": [
    "#np.savetxt('data/SMBHs.txt',smbhData,fmt='%1.3e \\t',header='M (M_s) \\t dN/dMdV (M_s^-1 pc^-3)')"
   ]
  },
  {
   "cell_type": "code",
   "execution_count": 36,
   "metadata": {},
   "outputs": [],
   "source": [
    "starData=np.vstack((ms[np.argmax(dStar):],dStar[np.argmax(dStar):])).T\n",
    "dmData=np.vstack((ms[np.argmax(dDm):],dDm[np.argmax(dDm):])).T\n",
    "bhData=np.vstack((ms[np.argmax(dBh):],dBh[np.argmax(dBh):])).T\n",
    "np.savetxt('data/galaxies.txt',starData,fmt='%1.3e \\t',header='M (M_s) \\t dN/dMdV (M_s^-1 pc^-3)')\n",
    "np.savetxt('data/blackHoles.txt',bhData,fmt='%1.3e \\t',header='M (M_s) \\t dN/dMdV (M_s^-1 pc^-3)')\n",
    "np.savetxt('data/darkMatter.txt',dmData,fmt='%1.3e \\t',header='M (M_s) \\t dN/dMdV (M_s^-1 pc^-3)')"
   ]
  },
  {
   "cell_type": "code",
   "execution_count": 24,
   "metadata": {
    "scrolled": true
   },
   "outputs": [
    {
     "data": {
      "image/png": "[encoded data removed]",
      "text/plain": [
       "<matplotlib.figure.Figure at 0x1209524e0>"
      ]
     },
     "metadata": {},
     "output_type": "display_data"
    }
   ],
   "source": [
    "plot=plt.gca()\n",
    "plot.plot(ms,dStar)\n",
    "plot.plot(ms,dBh)\n",
    "plot.plot(ms,dDm)\n",
    "plot.set_xscale('log')\n",
    "plot.set_yscale('log')\n",
    "plot.set_ylim(1e-40,1e-20)\n",
    "plt.show()"
   ]
  },
  {
   "cell_type": "code",
   "execution_count": null,
   "metadata": {
    "collapsed": true
   },
   "outputs": [],
   "source": []
  }
 ],
 "metadata": {
  "kernelspec": {
   "display_name": "Python [default]",
   "language": "python",
   "name": "python3"
  },
  "language_info": {
   "codemirror_mode": {
    "name": "ipython",
    "version": 3
   },
   "file_extension": ".py",
   "mimetype": "text/x-python",
   "name": "python",
   "nbconvert_exporter": "python",
   "pygments_lexer": "ipython3",
   "version": "3.5.4"
  }
 },
 "nbformat": 4,
 "nbformat_minor": 2
}
