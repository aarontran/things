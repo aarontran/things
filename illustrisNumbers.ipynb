{
 "cells": [
  {
   "cell_type": "code",
   "execution_count": 5,
   "metadata": {},
   "outputs": [],
   "source": [
    "import numpy as np\n",
    "import matplotlib.pyplot as plt\n",
    "import illustrisAPI.iApi as iApi\n",
    "#iApi.headers['api-key']='cc4ff6392e79c9e08c158e5ae5493718'"
   ]
  },
  {
   "cell_type": "code",
   "execution_count": 15,
   "metadata": {
    "collapsed": true
   },
   "outputs": [],
   "source": [
    "iApi.setUnits('Zephyr')"
   ]
  },
  {
   "cell_type": "code",
   "execution_count": 19,
   "metadata": {},
   "outputs": [],
   "source": [
    "masses=iApi.getSubhaloField('SubhaloMassType',simulation='Illustris-3')"
   ]
  },
  {
   "cell_type": "code",
   "execution_count": 39,
   "metadata": {},
   "outputs": [],
   "source": [
    "snapInfo=iApi.getSimData(simulation='Illustris-3')\n",
    "boxSize=1000*snapInfo['BoxSize']/snapInfo['h']\n",
    "volume=boxSize**3"
   ]
  },
  {
   "cell_type": "code",
   "execution_count": 50,
   "metadata": {},
   "outputs": [],
   "source": [
    "mDm=masses[:,1]\n",
    "mStar=masses[:,4]\n",
    "mBh=masses[:,5]"
   ]
  },
  {
   "cell_type": "code",
   "execution_count": 64,
   "metadata": {
    "collapsed": true
   },
   "outputs": [],
   "source": [
    "nBins=32\n",
    "ms=np.zeros(nBins)\n",
    "dStar=np.zeros(nBins)\n",
    "dBh=np.zeros(nBins)\n",
    "dDm=np.zeros(nBins)\n",
    "for i in range(nBins):\n",
    "    mLow=10**(8+0.25*i)\n",
    "    mHigh=10**(8+0.25*(i+1))\n",
    "    dm=mHigh-mLow\n",
    "    ms[i]=10**(8+0.25*(i+0.5))\n",
    "    stars=np.argwhere((mStar>mLow) & (mStar<mHigh))\n",
    "    bhs=np.argwhere((mBh>mLow) & (mBh<mHigh))\n",
    "    dms=np.argwhere((mDm>mLow) & (mDm<mHigh))\n",
    "    dStar[i]=np.size(stars)/(volume*dm)\n",
    "    dBh[i]=np.size(bhs)/(volume*dm)\n",
    "    dDm[i]=np.size(dms)/(volume*dm)"
   ]
  },
  {
   "cell_type": "code",
   "execution_count": 72,
   "metadata": {},
   "outputs": [],
   "source": [
    "np.savetxt('data/galaxies.txt',np.vstack((ms,dStar)))\n",
    "np.savetxt('data/blackHoles.txt',np.vstack((ms,dBh)))\n",
    "np.savetxt('datdarkMatter.txt',np.vstack((ms,dDm)))"
   ]
  },
  {
   "cell_type": "code",
   "execution_count": 68,
   "metadata": {},
   "outputs": [
    {
     "data": {
      "image/png": "[encoded data removed]",
      "text/plain": [
       "<matplotlib.figure.Figure at 0x1515d12ba8>"
      ]
     },
     "metadata": {},
     "output_type": "display_data"
    }
   ],
   "source": [
    "plot=plt.gca()\n",
    "plot.plot(ms,dStar)\n",
    "plot.plot(ms,dBh)\n",
    "plot.plot(ms,dDm)\n",
    "plot.set_xscale('log')\n",
    "plot.set_yscale('log')\n",
    "plot.set_ylim(1e-40,1e-20)\n",
    "plt.show()"
   ]
  },
  {
   "cell_type": "code",
   "execution_count": null,
   "metadata": {
    "collapsed": true
   },
   "outputs": [],
   "source": []
  }
 ],
 "metadata": {
  "kernelspec": {
   "display_name": "Python [default]",
   "language": "python",
   "name": "python3"
  },
  "language_info": {
   "codemirror_mode": {
    "name": "ipython",
    "version": 3
   },
   "file_extension": ".py",
   "mimetype": "text/x-python",
   "name": "python",
   "nbconvert_exporter": "python",
   "pygments_lexer": "ipython3",
   "version": "3.5.4"
  }
 },
 "nbformat": 4,
 "nbformat_minor": 2
}
